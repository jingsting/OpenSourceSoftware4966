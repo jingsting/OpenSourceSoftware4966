{
 "cells": [
  {
   "cell_type": "code",
   "execution_count": 1,
   "metadata": {},
   "outputs": [],
   "source": [
    "from __future__ import absolute_import, division, print_function, unicode_literals\n",
    "\n",
    "# TensorFlow and tf.keras\n",
    "import tensorflow as tf\n",
    "from tensorflow import keras\n",
    "\n",
    "# Helper libraries\n",
    "import numpy as np\n",
    "import matplotlib.pyplot as plt"
   ]
  },
  {
   "cell_type": "code",
   "execution_count": 22,
   "metadata": {},
   "outputs": [
    {
     "data": {
      "image/png": "[encoded data removed]",
      "text/plain": [
       "<Figure size 432x288 with 1 Axes>"
      ]
     },
     "metadata": {
      "needs_background": "light"
     },
     "output_type": "display_data"
    },
    {
     "data": {
      "text/plain": [
       "True"
      ]
     },
     "execution_count": 22,
     "metadata": {},
     "output_type": "execute_result"
    }
   ],
   "source": [
    "import cv2\n",
    "WHITE = [255,255,255]\n",
    "image = cv2.imread('resource/img1.jpg')\n",
    "gray = cv2.cvtColor(image, cv2.COLOR_BGR2GRAY)\n",
    "dm = gray.shape\n",
    "gap = max(dm[0],dm[1])-min(dm[0],dm[1])\n",
    "pad = int(gap/2)\n",
    "# di = gray.shape()\n",
    "# print(di)\n",
    "# cv2.imshow('Original image',image)     \n",
    "# cv2.imshow('Gray image', gray)\n",
    "square = cv2.copyMakeBorder( gray, 0, 0, pad, pad, cv2.BORDER_CONSTANT,value=WHITE)\n",
    "# print(image)\n",
    "data = cv2.resize(square, (28, 28))\n",
    "plt.imshow(data, cmap='gray', vmin=0, vmax=255)\n",
    "plt.show()\n",
    "# cv2.imwrite('resource/data1.jpg',data)\n",
    "# print(data)"
   ]
  },
  {
   "cell_type": "code",
   "execution_count": 25,
   "metadata": {},
   "outputs": [
    {
     "name": "stdout",
     "output_type": "stream",
     "text": [
      "(28, 28)\n"
     ]
    },
    {
     "data": {
      "image/png": "[encoded data removed]",
      "text/plain": [
       "<Figure size 432x288 with 1 Axes>"
      ]
     },
     "metadata": {
      "needs_background": "light"
     },
     "output_type": "display_data"
    }
   ],
   "source": [
    "WHITE = [255,255,255]\n",
    "image = cv2.imread('resource/img2.jpg')\n",
    "gray = cv2.cvtColor(image, cv2.COLOR_BGR2GRAY)\n",
    "dm = gray.shape\n",
    "gap = max(dm[0],dm[1])-min(dm[0],dm[1])\n",
    "pad = int(gap/2)\n",
    "square = cv2.copyMakeBorder( gray, 0, 0, pad, pad, cv2.BORDER_CONSTANT,value=WHITE)\n",
    "data = cv2.resize(square, (28, 28))\n",
    "print(data.shape)\n",
    "plt.imshow(data, cmap='gray', vmin=0, vmax=255)\n",
    "plt.show()\n",
    "# cv2.imwrite('resource/data2.jpg',data)"
   ]
  },
  {
   "cell_type": "code",
   "execution_count": 24,
   "metadata": {},
   "outputs": [
    {
     "data": {
      "image/png": "[encoded data removed]",
      "text/plain": [
       "<Figure size 432x288 with 1 Axes>"
      ]
     },
     "metadata": {
      "needs_background": "light"
     },
     "output_type": "display_data"
    },
    {
     "data": {
      "text/plain": [
       "True"
      ]
     },
     "execution_count": 24,
     "metadata": {},
     "output_type": "execute_result"
    }
   ],
   "source": [
    "WHITE = [255,255,255]\n",
    "image = cv2.imread('resource/img3.jpg')\n",
    "gray = cv2.cvtColor(image, cv2.COLOR_BGR2GRAY)\n",
    "dm = gray.shape\n",
    "gap = max(dm[0],dm[1])-min(dm[0],dm[1])\n",
    "pad = int(gap/2)\n",
    "square = cv2.copyMakeBorder( gray, 0, 0, pad, pad, cv2.BORDER_CONSTANT,value=WHITE)\n",
    "data = cv2.resize(square, (28, 28))\n",
    "plt.imshow(data, cmap='gray', vmin=0, vmax=255)\n",
    "plt.show()\n",
    "# cv2.imwrite('resource/data3.jpg',data)"
   ]
  },
  {
   "cell_type": "code",
   "execution_count": null,
   "metadata": {},
   "outputs": [],
   "source": []
  }
 ],
 "metadata": {
  "kernelspec": {
   "display_name": "Python 3",
   "language": "python",
   "name": "python3"
  },
  "language_info": {
   "codemirror_mode": {
    "name": "ipython",
    "version": 3
   },
   "file_extension": ".py",
   "mimetype": "text/x-python",
   "name": "python",
   "nbconvert_exporter": "python",
   "pygments_lexer": "ipython3",
   "version": "3.7.0"
  }
 },
 "nbformat": 4,
 "nbformat_minor": 2
}
